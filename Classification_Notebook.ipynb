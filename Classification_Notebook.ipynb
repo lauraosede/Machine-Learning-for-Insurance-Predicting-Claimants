{
  "nbformat": 4,
  "nbformat_minor": 0,
  "metadata": {
    "colab": {
      "name": "Classification_Notebook.ipynb",
      "provenance": [],
      "collapsed_sections": [],
      "toc_visible": true,
      "include_colab_link": true
    },
    "kernelspec": {
      "display_name": "Python 3",
      "name": "python3"
    }
  },
  "cells": [
    {
      "cell_type": "markdown",
      "metadata": {
        "id": "view-in-github",
        "colab_type": "text"
      },
      "source": [
        "<a href=\"https://colab.research.google.com/github/lauraosede/Machine-Learning-for-Insurance-Predicting-Claimants/blob/main/Classification_Notebook.ipynb\" target=\"_parent\"><img src=\"https://colab.research.google.com/assets/colab-badge.svg\" alt=\"Open In Colab\"/></a>"
      ]
    },
    {
      "cell_type": "markdown",
      "metadata": {
        "id": "rCstrYdOZkso"
      },
      "source": [
        "#### Import libraries "
      ]
    },
    {
      "cell_type": "code",
      "metadata": {
        "id": "SHZA-M9zVPwH"
      },
      "source": [
        "#Importing required libraries\n",
        "import numpy as np\n",
        "import pandas as pd\n",
        "import matplotlib.pyplot as plt\n",
        "from sklearn.model_selection import train_test_split\n",
        "from sklearn.preprocessing import MinMaxScaler\n",
        "from sklearn.tree import DecisionTreeClassifier\n",
        "from sklearn.metrics import confusion_matrix\n",
        "from sklearn.metrics import classification_report\n",
        "from sklearn.metrics import accuracy_score\n",
        "from sklearn.impute import SimpleImputer\n",
        "from sklearn.pipeline import Pipeline\n",
        "from sklearn.tree import DecisionTreeClassifier\n",
        "from sklearn.impute import KNNImputer\n",
        "from sklearn.experimental import enable_iterative_imputer\n",
        "from sklearn.impute import IterativeImputer\n",
        "from sklearn.model_selection import GridSearchCV, cross_val_score\n",
        "from sklearn.ensemble import RandomForestClassifier\n",
        "from sklearn.datasets import make_classification\n",
        "from sklearn.neighbors import KNeighborsClassifier\n",
        "from sklearn.linear_model import LogisticRegression\n",
        "from sklearn import decomposition, datasets\n",
        "from sklearn import neighbors\n",
        "from sklearn.decomposition import PCA\n"
      ],
      "execution_count": null,
      "outputs": []
    },
    {
      "cell_type": "markdown",
      "metadata": {
        "id": "_4HTP2Cj6C7m"
      },
      "source": [
        "## Descriptive analysis"
      ]
    },
    {
      "cell_type": "markdown",
      "metadata": {
        "id": "d9OXkxbgaQBU"
      },
      "source": [
        "#### Load data"
      ]
    },
    {
      "cell_type": "code",
      "metadata": {
        "id": "SruKbkMceh8Z"
      },
      "source": [
        "#loading the travel data sets\n",
        "travel_data_path = '/content/drive/MyDrive/Design and application of a machine learning system for a practical problem/machine learning assessment/clients data/CE802_P2_Data.csv'\n",
        "travel_data = pd.read_csv(travel_data_path)"
      ],
      "execution_count": null,
      "outputs": []
    },
    {
      "cell_type": "code",
      "metadata": {
        "colab": {
          "base_uri": "https://localhost:8080/",
          "height": 317
        },
        "id": "bJSssvcCZIuW",
        "outputId": "6de087c5-7909-4f13-c4ad-dbd6b8d3a7d4"
      },
      "source": [
        "#Viewing summary of the data fields \n",
        "travel_data.describe()"
      ],
      "execution_count": null,
      "outputs": [
        {
          "output_type": "execute_result",
          "data": {
            "text/html": [
              "<div>\n",
              "<style scoped>\n",
              "    .dataframe tbody tr th:only-of-type {\n",
              "        vertical-align: middle;\n",
              "    }\n",
              "\n",
              "    .dataframe tbody tr th {\n",
              "        vertical-align: top;\n",
              "    }\n",
              "\n",
              "    .dataframe thead th {\n",
              "        text-align: right;\n",
              "    }\n",
              "</style>\n",
              "<table border=\"1\" class=\"dataframe\">\n",
              "  <thead>\n",
              "    <tr style=\"text-align: right;\">\n",
              "      <th></th>\n",
              "      <th>F1</th>\n",
              "      <th>F2</th>\n",
              "      <th>F3</th>\n",
              "      <th>F4</th>\n",
              "      <th>F5</th>\n",
              "      <th>F6</th>\n",
              "      <th>F7</th>\n",
              "      <th>F8</th>\n",
              "      <th>F9</th>\n",
              "      <th>F10</th>\n",
              "      <th>F11</th>\n",
              "      <th>F12</th>\n",
              "      <th>F13</th>\n",
              "      <th>F14</th>\n",
              "      <th>F15</th>\n",
              "    </tr>\n",
              "  </thead>\n",
              "  <tbody>\n",
              "    <tr>\n",
              "      <th>count</th>\n",
              "      <td>1500.000000</td>\n",
              "      <td>1500.000000</td>\n",
              "      <td>1500.000000</td>\n",
              "      <td>1500.000000</td>\n",
              "      <td>1500.000000</td>\n",
              "      <td>1500.00000</td>\n",
              "      <td>1500.000000</td>\n",
              "      <td>1500.00000</td>\n",
              "      <td>1500.000000</td>\n",
              "      <td>1500.000000</td>\n",
              "      <td>1500.000000</td>\n",
              "      <td>1500.000000</td>\n",
              "      <td>1500.000000</td>\n",
              "      <td>1500.000000</td>\n",
              "      <td>750.000000</td>\n",
              "    </tr>\n",
              "    <tr>\n",
              "      <th>mean</th>\n",
              "      <td>-4.569780</td>\n",
              "      <td>-20.474600</td>\n",
              "      <td>109.024667</td>\n",
              "      <td>12.744707</td>\n",
              "      <td>-6.248787</td>\n",
              "      <td>14.90628</td>\n",
              "      <td>13.107813</td>\n",
              "      <td>-42.25600</td>\n",
              "      <td>-557.610667</td>\n",
              "      <td>10.806667</td>\n",
              "      <td>3.878840</td>\n",
              "      <td>108.488000</td>\n",
              "      <td>3.854280</td>\n",
              "      <td>0.147533</td>\n",
              "      <td>5.783013</td>\n",
              "    </tr>\n",
              "    <tr>\n",
              "      <th>std</th>\n",
              "      <td>7.662813</td>\n",
              "      <td>7.635517</td>\n",
              "      <td>117.334580</td>\n",
              "      <td>2.217929</td>\n",
              "      <td>2.540644</td>\n",
              "      <td>12.97563</td>\n",
              "      <td>3.166909</td>\n",
              "      <td>14.31863</td>\n",
              "      <td>142.833748</td>\n",
              "      <td>9.009814</td>\n",
              "      <td>7.541549</td>\n",
              "      <td>80.376896</td>\n",
              "      <td>3.465276</td>\n",
              "      <td>2.491236</td>\n",
              "      <td>1.005117</td>\n",
              "    </tr>\n",
              "    <tr>\n",
              "      <th>min</th>\n",
              "      <td>-29.760000</td>\n",
              "      <td>-45.570000</td>\n",
              "      <td>0.000000</td>\n",
              "      <td>8.020000</td>\n",
              "      <td>-15.280000</td>\n",
              "      <td>0.00000</td>\n",
              "      <td>9.420000</td>\n",
              "      <td>-76.98000</td>\n",
              "      <td>-888.720000</td>\n",
              "      <td>0.000000</td>\n",
              "      <td>-19.110000</td>\n",
              "      <td>-120.340000</td>\n",
              "      <td>0.000000</td>\n",
              "      <td>-4.360000</td>\n",
              "      <td>3.060000</td>\n",
              "    </tr>\n",
              "    <tr>\n",
              "      <th>25%</th>\n",
              "      <td>-10.260000</td>\n",
              "      <td>-26.130000</td>\n",
              "      <td>15.000000</td>\n",
              "      <td>11.440000</td>\n",
              "      <td>-8.130000</td>\n",
              "      <td>3.72000</td>\n",
              "      <td>10.140000</td>\n",
              "      <td>-56.98000</td>\n",
              "      <td>-678.720000</td>\n",
              "      <td>2.000000</td>\n",
              "      <td>-1.950000</td>\n",
              "      <td>71.660000</td>\n",
              "      <td>0.600000</td>\n",
              "      <td>-2.230000</td>\n",
              "      <td>5.062500</td>\n",
              "    </tr>\n",
              "    <tr>\n",
              "      <th>50%</th>\n",
              "      <td>-7.560000</td>\n",
              "      <td>-23.445000</td>\n",
              "      <td>50.000000</td>\n",
              "      <td>12.440000</td>\n",
              "      <td>-7.230000</td>\n",
              "      <td>6.21000</td>\n",
              "      <td>10.500000</td>\n",
              "      <td>-34.98000</td>\n",
              "      <td>-486.720000</td>\n",
              "      <td>2.000000</td>\n",
              "      <td>0.930000</td>\n",
              "      <td>97.660000</td>\n",
              "      <td>1.020000</td>\n",
              "      <td>1.100000</td>\n",
              "      <td>5.790000</td>\n",
              "    </tr>\n",
              "    <tr>\n",
              "      <th>75%</th>\n",
              "      <td>2.917500</td>\n",
              "      <td>-13.110000</td>\n",
              "      <td>195.000000</td>\n",
              "      <td>13.900000</td>\n",
              "      <td>-3.770000</td>\n",
              "      <td>24.60000</td>\n",
              "      <td>15.870000</td>\n",
              "      <td>-30.98000</td>\n",
              "      <td>-446.720000</td>\n",
              "      <td>20.000000</td>\n",
              "      <td>11.100000</td>\n",
              "      <td>139.660000</td>\n",
              "      <td>7.050000</td>\n",
              "      <td>1.982500</td>\n",
              "      <td>6.530000</td>\n",
              "    </tr>\n",
              "    <tr>\n",
              "      <th>max</th>\n",
              "      <td>8.850000</td>\n",
              "      <td>-6.780000</td>\n",
              "      <td>390.000000</td>\n",
              "      <td>21.220000</td>\n",
              "      <td>-1.590000</td>\n",
              "      <td>47.10000</td>\n",
              "      <td>19.570000</td>\n",
              "      <td>-24.98000</td>\n",
              "      <td>-398.720000</td>\n",
              "      <td>20.000000</td>\n",
              "      <td>17.310000</td>\n",
              "      <td>309.660000</td>\n",
              "      <td>10.350000</td>\n",
              "      <td>7.880000</td>\n",
              "      <td>8.140000</td>\n",
              "    </tr>\n",
              "  </tbody>\n",
              "</table>\n",
              "</div>"
            ],
            "text/plain": [
              "                F1           F2  ...          F14         F15\n",
              "count  1500.000000  1500.000000  ...  1500.000000  750.000000\n",
              "mean     -4.569780   -20.474600  ...     0.147533    5.783013\n",
              "std       7.662813     7.635517  ...     2.491236    1.005117\n",
              "min     -29.760000   -45.570000  ...    -4.360000    3.060000\n",
              "25%     -10.260000   -26.130000  ...    -2.230000    5.062500\n",
              "50%      -7.560000   -23.445000  ...     1.100000    5.790000\n",
              "75%       2.917500   -13.110000  ...     1.982500    6.530000\n",
              "max       8.850000    -6.780000  ...     7.880000    8.140000\n",
              "\n",
              "[8 rows x 15 columns]"
            ]
          },
          "metadata": {
            "tags": []
          },
          "execution_count": 97
        }
      ]
    },
    {
      "cell_type": "code",
      "metadata": {
        "colab": {
          "base_uri": "https://localhost:8080/"
        },
        "id": "SCJsKeHVZP6A",
        "outputId": "5c44bca7-deff-471d-809e-1232e3a06652"
      },
      "source": [
        "travel_data.info()"
      ],
      "execution_count": null,
      "outputs": [
        {
          "output_type": "stream",
          "text": [
            "<class 'pandas.core.frame.DataFrame'>\n",
            "RangeIndex: 1500 entries, 0 to 1499\n",
            "Data columns (total 16 columns):\n",
            " #   Column  Non-Null Count  Dtype  \n",
            "---  ------  --------------  -----  \n",
            " 0   F1      1500 non-null   float64\n",
            " 1   F2      1500 non-null   float64\n",
            " 2   F3      1500 non-null   int64  \n",
            " 3   F4      1500 non-null   float64\n",
            " 4   F5      1500 non-null   float64\n",
            " 5   F6      1500 non-null   float64\n",
            " 6   F7      1500 non-null   float64\n",
            " 7   F8      1500 non-null   float64\n",
            " 8   F9      1500 non-null   float64\n",
            " 9   F10     1500 non-null   int64  \n",
            " 10  F11     1500 non-null   float64\n",
            " 11  F12     1500 non-null   float64\n",
            " 12  F13     1500 non-null   float64\n",
            " 13  F14     1500 non-null   float64\n",
            " 14  F15     750 non-null    float64\n",
            " 15  Class   1500 non-null   bool   \n",
            "dtypes: bool(1), float64(13), int64(2)\n",
            "memory usage: 177.4 KB\n"
          ],
          "name": "stdout"
        }
      ]
    },
    {
      "cell_type": "code",
      "metadata": {
        "colab": {
          "base_uri": "https://localhost:8080/",
          "height": 514
        },
        "id": "LA6xrg7UYyKP",
        "outputId": "66ed7fa3-ce41-4d05-9c80-328280af8e24"
      },
      "source": [
        "#Viweing Show first 15 rows in our dataframe\n",
        "travel_data.columns \n",
        "travel_data.head(15)"
      ],
      "execution_count": null,
      "outputs": [
        {
          "output_type": "execute_result",
          "data": {
            "text/html": [
              "<div>\n",
              "<style scoped>\n",
              "    .dataframe tbody tr th:only-of-type {\n",
              "        vertical-align: middle;\n",
              "    }\n",
              "\n",
              "    .dataframe tbody tr th {\n",
              "        vertical-align: top;\n",
              "    }\n",
              "\n",
              "    .dataframe thead th {\n",
              "        text-align: right;\n",
              "    }\n",
              "</style>\n",
              "<table border=\"1\" class=\"dataframe\">\n",
              "  <thead>\n",
              "    <tr style=\"text-align: right;\">\n",
              "      <th></th>\n",
              "      <th>F1</th>\n",
              "      <th>F2</th>\n",
              "      <th>F3</th>\n",
              "      <th>F4</th>\n",
              "      <th>F5</th>\n",
              "      <th>F6</th>\n",
              "      <th>F7</th>\n",
              "      <th>F8</th>\n",
              "      <th>F9</th>\n",
              "      <th>F10</th>\n",
              "      <th>F11</th>\n",
              "      <th>F12</th>\n",
              "      <th>F13</th>\n",
              "      <th>F14</th>\n",
              "      <th>F15</th>\n",
              "      <th>Class</th>\n",
              "    </tr>\n",
              "  </thead>\n",
              "  <tbody>\n",
              "    <tr>\n",
              "      <th>0</th>\n",
              "      <td>4.92</td>\n",
              "      <td>-13.23</td>\n",
              "      <td>330</td>\n",
              "      <td>13.22</td>\n",
              "      <td>-5.51</td>\n",
              "      <td>41.10</td>\n",
              "      <td>16.72</td>\n",
              "      <td>-56.98</td>\n",
              "      <td>-748.72</td>\n",
              "      <td>20</td>\n",
              "      <td>9.75</td>\n",
              "      <td>259.66</td>\n",
              "      <td>8.00</td>\n",
              "      <td>-0.35</td>\n",
              "      <td>4.76</td>\n",
              "      <td>False</td>\n",
              "    </tr>\n",
              "    <tr>\n",
              "      <th>1</th>\n",
              "      <td>-9.33</td>\n",
              "      <td>-27.72</td>\n",
              "      <td>3</td>\n",
              "      <td>12.78</td>\n",
              "      <td>-9.12</td>\n",
              "      <td>5.31</td>\n",
              "      <td>9.90</td>\n",
              "      <td>-30.98</td>\n",
              "      <td>-436.72</td>\n",
              "      <td>2</td>\n",
              "      <td>-1.56</td>\n",
              "      <td>131.66</td>\n",
              "      <td>0.76</td>\n",
              "      <td>1.79</td>\n",
              "      <td>NaN</td>\n",
              "      <td>False</td>\n",
              "    </tr>\n",
              "    <tr>\n",
              "      <th>2</th>\n",
              "      <td>-15.09</td>\n",
              "      <td>-26.28</td>\n",
              "      <td>6</td>\n",
              "      <td>13.54</td>\n",
              "      <td>-7.75</td>\n",
              "      <td>5.67</td>\n",
              "      <td>9.93</td>\n",
              "      <td>-34.98</td>\n",
              "      <td>-482.72</td>\n",
              "      <td>2</td>\n",
              "      <td>-2.58</td>\n",
              "      <td>63.66</td>\n",
              "      <td>0.64</td>\n",
              "      <td>2.02</td>\n",
              "      <td>NaN</td>\n",
              "      <td>True</td>\n",
              "    </tr>\n",
              "    <tr>\n",
              "      <th>3</th>\n",
              "      <td>-18.09</td>\n",
              "      <td>-24.60</td>\n",
              "      <td>30</td>\n",
              "      <td>13.28</td>\n",
              "      <td>-8.61</td>\n",
              "      <td>3.51</td>\n",
              "      <td>10.02</td>\n",
              "      <td>-30.98</td>\n",
              "      <td>-414.72</td>\n",
              "      <td>2</td>\n",
              "      <td>-7.08</td>\n",
              "      <td>133.66</td>\n",
              "      <td>0.57</td>\n",
              "      <td>1.98</td>\n",
              "      <td>NaN</td>\n",
              "      <td>True</td>\n",
              "    </tr>\n",
              "    <tr>\n",
              "      <th>4</th>\n",
              "      <td>6.12</td>\n",
              "      <td>-8.64</td>\n",
              "      <td>300</td>\n",
              "      <td>14.94</td>\n",
              "      <td>-1.97</td>\n",
              "      <td>29.40</td>\n",
              "      <td>19.32</td>\n",
              "      <td>-36.98</td>\n",
              "      <td>-428.72</td>\n",
              "      <td>20</td>\n",
              "      <td>9.09</td>\n",
              "      <td>229.66</td>\n",
              "      <td>6.70</td>\n",
              "      <td>-3.83</td>\n",
              "      <td>NaN</td>\n",
              "      <td>True</td>\n",
              "    </tr>\n",
              "    <tr>\n",
              "      <th>5</th>\n",
              "      <td>6.72</td>\n",
              "      <td>-12.90</td>\n",
              "      <td>325</td>\n",
              "      <td>11.54</td>\n",
              "      <td>-3.94</td>\n",
              "      <td>16.50</td>\n",
              "      <td>14.82</td>\n",
              "      <td>-76.98</td>\n",
              "      <td>-408.72</td>\n",
              "      <td>20</td>\n",
              "      <td>14.55</td>\n",
              "      <td>39.66</td>\n",
              "      <td>9.25</td>\n",
              "      <td>-3.27</td>\n",
              "      <td>7.02</td>\n",
              "      <td>True</td>\n",
              "    </tr>\n",
              "    <tr>\n",
              "      <th>6</th>\n",
              "      <td>-8.61</td>\n",
              "      <td>-23.79</td>\n",
              "      <td>44</td>\n",
              "      <td>12.48</td>\n",
              "      <td>-7.29</td>\n",
              "      <td>0.96</td>\n",
              "      <td>10.24</td>\n",
              "      <td>-34.98</td>\n",
              "      <td>-468.72</td>\n",
              "      <td>2</td>\n",
              "      <td>-0.36</td>\n",
              "      <td>95.66</td>\n",
              "      <td>0.56</td>\n",
              "      <td>1.98</td>\n",
              "      <td>6.53</td>\n",
              "      <td>True</td>\n",
              "    </tr>\n",
              "    <tr>\n",
              "      <th>7</th>\n",
              "      <td>5.85</td>\n",
              "      <td>-9.39</td>\n",
              "      <td>390</td>\n",
              "      <td>13.68</td>\n",
              "      <td>-2.43</td>\n",
              "      <td>34.35</td>\n",
              "      <td>18.27</td>\n",
              "      <td>-36.98</td>\n",
              "      <td>-588.72</td>\n",
              "      <td>20</td>\n",
              "      <td>13.56</td>\n",
              "      <td>109.66</td>\n",
              "      <td>5.50</td>\n",
              "      <td>-3.84</td>\n",
              "      <td>NaN</td>\n",
              "      <td>False</td>\n",
              "    </tr>\n",
              "    <tr>\n",
              "      <th>8</th>\n",
              "      <td>-13.80</td>\n",
              "      <td>-27.00</td>\n",
              "      <td>25</td>\n",
              "      <td>11.72</td>\n",
              "      <td>-9.73</td>\n",
              "      <td>5.58</td>\n",
              "      <td>9.47</td>\n",
              "      <td>-34.98</td>\n",
              "      <td>-450.72</td>\n",
              "      <td>2</td>\n",
              "      <td>-0.27</td>\n",
              "      <td>83.66</td>\n",
              "      <td>0.56</td>\n",
              "      <td>4.96</td>\n",
              "      <td>NaN</td>\n",
              "      <td>False</td>\n",
              "    </tr>\n",
              "    <tr>\n",
              "      <th>9</th>\n",
              "      <td>4.02</td>\n",
              "      <td>-11.46</td>\n",
              "      <td>95</td>\n",
              "      <td>10.38</td>\n",
              "      <td>-6.33</td>\n",
              "      <td>30.60</td>\n",
              "      <td>17.22</td>\n",
              "      <td>-56.98</td>\n",
              "      <td>-758.72</td>\n",
              "      <td>20</td>\n",
              "      <td>12.36</td>\n",
              "      <td>139.66</td>\n",
              "      <td>5.70</td>\n",
              "      <td>-2.87</td>\n",
              "      <td>NaN</td>\n",
              "      <td>True</td>\n",
              "    </tr>\n",
              "    <tr>\n",
              "      <th>10</th>\n",
              "      <td>3.99</td>\n",
              "      <td>-12.84</td>\n",
              "      <td>235</td>\n",
              "      <td>13.78</td>\n",
              "      <td>-3.19</td>\n",
              "      <td>25.05</td>\n",
              "      <td>15.97</td>\n",
              "      <td>-36.98</td>\n",
              "      <td>-528.72</td>\n",
              "      <td>20</td>\n",
              "      <td>9.54</td>\n",
              "      <td>109.66</td>\n",
              "      <td>5.20</td>\n",
              "      <td>-0.36</td>\n",
              "      <td>NaN</td>\n",
              "      <td>False</td>\n",
              "    </tr>\n",
              "    <tr>\n",
              "      <th>11</th>\n",
              "      <td>-10.71</td>\n",
              "      <td>-24.24</td>\n",
              "      <td>16</td>\n",
              "      <td>14.22</td>\n",
              "      <td>-7.90</td>\n",
              "      <td>1.80</td>\n",
              "      <td>10.47</td>\n",
              "      <td>-30.98</td>\n",
              "      <td>-426.72</td>\n",
              "      <td>2</td>\n",
              "      <td>1.08</td>\n",
              "      <td>59.66</td>\n",
              "      <td>0.47</td>\n",
              "      <td>3.66</td>\n",
              "      <td>NaN</td>\n",
              "      <td>True</td>\n",
              "    </tr>\n",
              "    <tr>\n",
              "      <th>12</th>\n",
              "      <td>-11.07</td>\n",
              "      <td>-26.40</td>\n",
              "      <td>0</td>\n",
              "      <td>11.12</td>\n",
              "      <td>-7.56</td>\n",
              "      <td>3.18</td>\n",
              "      <td>9.55</td>\n",
              "      <td>-32.98</td>\n",
              "      <td>-480.72</td>\n",
              "      <td>2</td>\n",
              "      <td>-1.74</td>\n",
              "      <td>65.66</td>\n",
              "      <td>0.84</td>\n",
              "      <td>2.48</td>\n",
              "      <td>5.39</td>\n",
              "      <td>True</td>\n",
              "    </tr>\n",
              "    <tr>\n",
              "      <th>13</th>\n",
              "      <td>-3.06</td>\n",
              "      <td>-10.35</td>\n",
              "      <td>55</td>\n",
              "      <td>9.62</td>\n",
              "      <td>-3.31</td>\n",
              "      <td>17.85</td>\n",
              "      <td>15.92</td>\n",
              "      <td>-56.98</td>\n",
              "      <td>-508.72</td>\n",
              "      <td>20</td>\n",
              "      <td>12.93</td>\n",
              "      <td>19.66</td>\n",
              "      <td>7.35</td>\n",
              "      <td>-2.26</td>\n",
              "      <td>7.26</td>\n",
              "      <td>True</td>\n",
              "    </tr>\n",
              "    <tr>\n",
              "      <th>14</th>\n",
              "      <td>-13.98</td>\n",
              "      <td>-26.55</td>\n",
              "      <td>28</td>\n",
              "      <td>12.00</td>\n",
              "      <td>-7.46</td>\n",
              "      <td>2.76</td>\n",
              "      <td>9.91</td>\n",
              "      <td>-34.98</td>\n",
              "      <td>-438.72</td>\n",
              "      <td>2</td>\n",
              "      <td>-18.18</td>\n",
              "      <td>73.66</td>\n",
              "      <td>0.67</td>\n",
              "      <td>2.35</td>\n",
              "      <td>NaN</td>\n",
              "      <td>False</td>\n",
              "    </tr>\n",
              "  </tbody>\n",
              "</table>\n",
              "</div>"
            ],
            "text/plain": [
              "       F1     F2   F3     F4    F5  ...     F12   F13   F14   F15  Class\n",
              "0    4.92 -13.23  330  13.22 -5.51  ...  259.66  8.00 -0.35  4.76  False\n",
              "1   -9.33 -27.72    3  12.78 -9.12  ...  131.66  0.76  1.79   NaN  False\n",
              "2  -15.09 -26.28    6  13.54 -7.75  ...   63.66  0.64  2.02   NaN   True\n",
              "3  -18.09 -24.60   30  13.28 -8.61  ...  133.66  0.57  1.98   NaN   True\n",
              "4    6.12  -8.64  300  14.94 -1.97  ...  229.66  6.70 -3.83   NaN   True\n",
              "5    6.72 -12.90  325  11.54 -3.94  ...   39.66  9.25 -3.27  7.02   True\n",
              "6   -8.61 -23.79   44  12.48 -7.29  ...   95.66  0.56  1.98  6.53   True\n",
              "7    5.85  -9.39  390  13.68 -2.43  ...  109.66  5.50 -3.84   NaN  False\n",
              "8  -13.80 -27.00   25  11.72 -9.73  ...   83.66  0.56  4.96   NaN  False\n",
              "9    4.02 -11.46   95  10.38 -6.33  ...  139.66  5.70 -2.87   NaN   True\n",
              "10   3.99 -12.84  235  13.78 -3.19  ...  109.66  5.20 -0.36   NaN  False\n",
              "11 -10.71 -24.24   16  14.22 -7.90  ...   59.66  0.47  3.66   NaN   True\n",
              "12 -11.07 -26.40    0  11.12 -7.56  ...   65.66  0.84  2.48  5.39   True\n",
              "13  -3.06 -10.35   55   9.62 -3.31  ...   19.66  7.35 -2.26  7.26   True\n",
              "14 -13.98 -26.55   28  12.00 -7.46  ...   73.66  0.67  2.35   NaN  False\n",
              "\n",
              "[15 rows x 16 columns]"
            ]
          },
          "metadata": {
            "tags": []
          },
          "execution_count": 99
        }
      ]
    },
    {
      "cell_type": "markdown",
      "metadata": {
        "id": "rD3ehhox6F3L"
      },
      "source": [
        "## Data treatment\n"
      ]
    },
    {
      "cell_type": "code",
      "metadata": {
        "id": "iGhpzNImIWB2"
      },
      "source": [
        "#defining Min Max scaler\n",
        "scaler = MinMaxScaler()"
      ],
      "execution_count": null,
      "outputs": []
    },
    {
      "cell_type": "markdown",
      "metadata": {
        "id": "DMdyPvAcLBl5"
      },
      "source": [
        "#### Dealing with missing data using dropna\n"
      ]
    },
    {
      "cell_type": "code",
      "metadata": {
        "colab": {
          "base_uri": "https://localhost:8080/"
        },
        "id": "zFHtfnt-LGAZ",
        "outputId": "cdacb2fe-3c2a-428d-f82d-0650319ca8ed"
      },
      "source": [
        "baseline_dataset = travel_data.dropna(axis=0)\n",
        "print(baseline_dataset)"
      ],
      "execution_count": null,
      "outputs": [
        {
          "output_type": "stream",
          "text": [
            "         F1     F2   F3     F4    F5  ...     F12   F13   F14   F15  Class\n",
            "0      4.92 -13.23  330  13.22 -5.51  ...  259.66  8.00 -0.35  4.76  False\n",
            "5      6.72 -12.90  325  11.54 -3.94  ...   39.66  9.25 -3.27  7.02   True\n",
            "6     -8.61 -23.79   44  12.48 -7.29  ...   95.66  0.56  1.98  6.53   True\n",
            "12   -11.07 -26.40    0  11.12 -7.56  ...   65.66  0.84  2.48  5.39   True\n",
            "13    -3.06 -10.35   55   9.62 -3.31  ...   19.66  7.35 -2.26  7.26   True\n",
            "...     ...    ...  ...    ...   ...  ...     ...   ...   ...   ...    ...\n",
            "1490   5.37 -14.55  380  15.32 -4.35  ...   89.66  9.85 -3.83  5.10  False\n",
            "1491   5.76 -14.97  210   8.76 -3.79  ...  -60.34  8.75 -2.51  7.39   True\n",
            "1493  -8.25 -17.34   85  10.44 -5.51  ...  199.66  6.70 -1.84  5.24  False\n",
            "1497  -3.78 -14.97  155   9.20 -4.18  ...  -50.34  6.15 -0.76  4.42  False\n",
            "1498   1.38 -14.97  190  13.36 -6.31  ...  269.66  8.30 -2.63  3.29  False\n",
            "\n",
            "[750 rows x 16 columns]\n"
          ],
          "name": "stdout"
        }
      ]
    },
    {
      "cell_type": "code",
      "metadata": {
        "id": "3bbljl8cLTbG"
      },
      "source": [
        "#selecting the prediction target for dropna dataset\n",
        "y_baseline = baseline_dataset.Class\n",
        "\n",
        "#choosing the prediction features\n",
        "X_baseline = baseline_dataset.drop('Class', axis = 1)\n",
        "X_baseline = scaler.fit_transform(X_baseline)"
      ],
      "execution_count": null,
      "outputs": []
    },
    {
      "cell_type": "markdown",
      "metadata": {
        "id": "iSwzGSheFK0w"
      },
      "source": [
        "##### Train and test split"
      ]
    },
    {
      "cell_type": "code",
      "metadata": {
        "id": "MNlAqvKXL2dU"
      },
      "source": [
        "#Splitting the dataset into the Training set and Test set\n",
        "# split data into training and validation data, for both features and target\n",
        "X_baseline_train, X_baseline_test, y_baseline_train, y_baseline_test =  train_test_split(X_baseline,y_baseline,test_size = 0.25, random_state= 0)"
      ],
      "execution_count": null,
      "outputs": []
    },
    {
      "cell_type": "markdown",
      "metadata": {
        "id": "3X-36A-INH2n"
      },
      "source": [
        "#### Dealing with missing data using other imputation methods (Simple Imputation (constant & median), KNN, itieratieve imputer.\n"
      ]
    },
    {
      "cell_type": "code",
      "metadata": {
        "id": "W3iDr0lyi7cI"
      },
      "source": [
        "#selecting the prediction target\n",
        "y = travel_data.Class\n",
        "\n",
        "#choosing the prediction features\n",
        "X = travel_data.drop('Class', axis = 1)"
      ],
      "execution_count": null,
      "outputs": []
    },
    {
      "cell_type": "code",
      "metadata": {
        "id": "w95RDqospCYT"
      },
      "source": [
        "#Splitting the dataset into the Training set and Test set\n",
        "X_train, X_test, y_train, y_test =  train_test_split(X,y,test_size = 0.25, random_state= 0)\n"
      ],
      "execution_count": null,
      "outputs": []
    },
    {
      "cell_type": "markdown",
      "metadata": {
        "id": "WLcp1nhJcmFy"
      },
      "source": [
        "##### Imputation methods\n"
      ]
    },
    {
      "cell_type": "code",
      "metadata": {
        "id": "5VYBm8kzGTig"
      },
      "source": [
        "#testing various imputation methods\n",
        "imputation_method = [\n",
        "                      SimpleImputer(strategy= 'median', missing_values= np.nan),\n",
        "                      SimpleImputer(strategy= 'constant', fill_value = 1, missing_values= np.nan),\n",
        "                      KNNImputer(missing_values= np.nan),\n",
        "                      IterativeImputer(missing_values= np.nan, random_state=0)\n",
        "\n",
        "]"
      ],
      "execution_count": null,
      "outputs": []
    },
    {
      "cell_type": "markdown",
      "metadata": {
        "id": "ej2clbc-VDk0"
      },
      "source": [
        "## Model selection"
      ]
    },
    {
      "cell_type": "markdown",
      "metadata": {
        "id": "XYMpdOgFFiAv"
      },
      "source": [
        "#### Model selection on baseline data set (data where we dropped na)"
      ]
    },
    {
      "cell_type": "code",
      "metadata": {
        "colab": {
          "base_uri": "https://localhost:8080/"
        },
        "id": "dH5YI6fOHSUK",
        "outputId": "7a1638d7-25d5-4241-b464-2eab5f0111f1"
      },
      "source": [
        "#using Decision tree algorithm on baseline module\n",
        "clf = DecisionTreeClassifier(random_state=0)\n",
        "clf.fit(X_baseline_train, y_baseline_train)\n",
        "result = clf.score(X_baseline_test, y_baseline_test)\n",
        "print(result)\n",
        "print(\"Accuracy: %.2f%%\" % (result*100.0))\n"
      ],
      "execution_count": null,
      "outputs": [
        {
          "output_type": "stream",
          "text": [
            "0.8297872340425532\n",
            "Accuracy: 82.98%\n"
          ],
          "name": "stdout"
        }
      ]
    },
    {
      "cell_type": "code",
      "metadata": {
        "colab": {
          "base_uri": "https://localhost:8080/"
        },
        "id": "vkAa5gqsOiBw",
        "outputId": "f1f36a72-c4d8-45ef-a3bc-a0ceee1b2d7b"
      },
      "source": [
        "#using random forest algorithm on baseline module\n",
        "model = RandomForestClassifier(max_depth=2, random_state=0)\n",
        "model.fit(X_baseline_train, y_baseline_train)\n",
        "result = model.score(X_baseline_test, y_baseline_test)\n",
        "print(result)\n",
        "print(\"Accuracy: %.2f%%\" % (result*100.0))\n"
      ],
      "execution_count": null,
      "outputs": [
        {
          "output_type": "stream",
          "text": [
            "0.9095744680851063\n",
            "Accuracy: 90.96%\n"
          ],
          "name": "stdout"
        }
      ]
    },
    {
      "cell_type": "code",
      "metadata": {
        "colab": {
          "base_uri": "https://localhost:8080/"
        },
        "id": "MMbPdFmCORSK",
        "outputId": "19fa1ab1-91c3-4c17-8507-7ae0d1e75f7d"
      },
      "source": [
        "#using KNN on baseline module\n",
        "model = KNeighborsClassifier(n_neighbors=3)\n",
        "model.fit(X_baseline_train, y_baseline_train)\n",
        "result = model.score(X_baseline_test, y_baseline_test)\n",
        "print(result)\n",
        "print(\"Accuracy: %.2f%%\" % (result*100.0))\n"
      ],
      "execution_count": null,
      "outputs": [
        {
          "output_type": "stream",
          "text": [
            "0.8670212765957447\n",
            "Accuracy: 86.70%\n"
          ],
          "name": "stdout"
        }
      ]
    },
    {
      "cell_type": "code",
      "metadata": {
        "colab": {
          "base_uri": "https://localhost:8080/"
        },
        "id": "qXP8iR2UORWr",
        "outputId": "75e66427-6f01-4111-8e1b-bbc0b4d3787a"
      },
      "source": [
        "#using logistic regressor on baseline dataset\n",
        "model = LogisticRegression(random_state=0)\n",
        "model.fit(X_baseline_train, y_baseline_train)\n",
        "result = model.score(X_baseline_test, y_baseline_test)\n",
        "print(result)\n",
        "print(\"Accuracy: %.2f%%\" % (result*100.0))\n",
        "\n"
      ],
      "execution_count": null,
      "outputs": [
        {
          "output_type": "stream",
          "text": [
            "0.9042553191489362\n",
            "Accuracy: 90.43%\n"
          ],
          "name": "stdout"
        }
      ]
    },
    {
      "cell_type": "markdown",
      "metadata": {
        "id": "69Xn1liNMJv9"
      },
      "source": [
        "#### Model selection on other imputation methods"
      ]
    },
    {
      "cell_type": "code",
      "metadata": {
        "colab": {
          "base_uri": "https://localhost:8080/"
        },
        "id": "UQC26y_jGFkG",
        "outputId": "fb8c094b-b308-4cd0-bee1-72171fd380b1"
      },
      "source": [
        "#using decision tree classifier\n",
        "classify = DecisionTreeClassifier()\n",
        "\n",
        "#testing different parameters\n",
        "parameter_grid = {\n",
        "    'classifier__criterion': ['gini', 'entropy'],\n",
        "    'classifier__splitter':['best', 'random'],\n",
        "    'classifier__max_depth': [2,20,200],\n",
        "    'classifier__min_samples_split': [2,7,25,100],\n",
        "    'classifier__max_features': [None, 'auto', 'sqrt', 'log2']\n",
        "}\n",
        "for impute in imputation_method:\n",
        "  pipelines = Pipeline(steps=[('scaler', scaler),\n",
        "                              ('imputer', impute),\n",
        "                              ('classifier', classify)])\n",
        "  \n",
        "  cross_validation = GridSearchCV(pipelines, parameter_grid, cv = 5)\n",
        "  cross_validation.fit(X_train, y_train)\n",
        "  print(cross_validation.best_estimator_)\n",
        "  print(cross_validation.score(X_test, y_test))\n",
        "  print(\"\\n\")\n",
        " \n",
        "\n",
        "\n",
        "\n",
        "\n"
      ],
      "execution_count": null,
      "outputs": [
        {
          "output_type": "stream",
          "text": [
            "Pipeline(memory=None,\n",
            "         steps=[('scaler', MinMaxScaler(copy=True, feature_range=(0, 1))),\n",
            "                ('imputer',\n",
            "                 SimpleImputer(add_indicator=False, copy=True, fill_value=None,\n",
            "                               missing_values=nan, strategy='median',\n",
            "                               verbose=0)),\n",
            "                ('classifier',\n",
            "                 DecisionTreeClassifier(ccp_alpha=0.0, class_weight=None,\n",
            "                                        criterion='entropy', max_depth=200,\n",
            "                                        max_features=None, max_leaf_nodes=None,\n",
            "                                        min_impurity_decrease=0.0,\n",
            "                                        min_impurity_split=None,\n",
            "                                        min_samples_leaf=1,\n",
            "                                        min_samples_split=100,\n",
            "                                        min_weight_fraction_leaf=0.0,\n",
            "                                        presort='deprecated', random_state=None,\n",
            "                                        splitter='best'))],\n",
            "         verbose=False)\n",
            "0.7866666666666666\n",
            "\n",
            "\n",
            "Pipeline(memory=None,\n",
            "         steps=[('scaler', MinMaxScaler(copy=True, feature_range=(0, 1))),\n",
            "                ('imputer',\n",
            "                 SimpleImputer(add_indicator=False, copy=True, fill_value=1,\n",
            "                               missing_values=nan, strategy='constant',\n",
            "                               verbose=0)),\n",
            "                ('classifier',\n",
            "                 DecisionTreeClassifier(ccp_alpha=0.0, class_weight=None,\n",
            "                                        criterion='gini', max_depth=20,\n",
            "                                        max_features=None, max_leaf_nodes=None,\n",
            "                                        min_impurity_decrease=0.0,\n",
            "                                        min_impurity_split=None,\n",
            "                                        min_samples_leaf=1,\n",
            "                                        min_samples_split=25,\n",
            "                                        min_weight_fraction_leaf=0.0,\n",
            "                                        presort='deprecated', random_state=None,\n",
            "                                        splitter='best'))],\n",
            "         verbose=False)\n",
            "0.7706666666666667\n",
            "\n",
            "\n",
            "Pipeline(memory=None,\n",
            "         steps=[('scaler', MinMaxScaler(copy=True, feature_range=(0, 1))),\n",
            "                ('imputer',\n",
            "                 KNNImputer(add_indicator=False, copy=True,\n",
            "                            metric='nan_euclidean', missing_values=nan,\n",
            "                            n_neighbors=5, weights='uniform')),\n",
            "                ('classifier',\n",
            "                 DecisionTreeClassifier(ccp_alpha=0.0, class_weight=None,\n",
            "                                        criterion='gini', max_depth=200,\n",
            "                                        max_features=None, max_leaf_nodes=None,\n",
            "                                        min_impurity_decrease=0.0,\n",
            "                                        min_impurity_split=None,\n",
            "                                        min_samples_leaf=1,\n",
            "                                        min_samples_split=25,\n",
            "                                        min_weight_fraction_leaf=0.0,\n",
            "                                        presort='deprecated', random_state=None,\n",
            "                                        splitter='random'))],\n",
            "         verbose=False)\n",
            "0.768\n",
            "\n",
            "\n",
            "Pipeline(memory=None,\n",
            "         steps=[('scaler', MinMaxScaler(copy=True, feature_range=(0, 1))),\n",
            "                ('imputer',\n",
            "                 IterativeImputer(add_indicator=False, estimator=None,\n",
            "                                  imputation_order='ascending',\n",
            "                                  initial_strategy='mean', max_iter=10,\n",
            "                                  max_value=None, min_value=None,\n",
            "                                  missing_values=nan, n_nearest_features=None,\n",
            "                                  random_state=0, sample_posterior=False,\n",
            "                                  skip_complete=False, tol=0.001, verbose=0)),\n",
            "                ('classifier',\n",
            "                 DecisionTreeClassifier(ccp_alpha=0.0, class_weight=None,\n",
            "                                        criterion='entropy', max_depth=20,\n",
            "                                        max_features='auto',\n",
            "                                        max_leaf_nodes=None,\n",
            "                                        min_impurity_decrease=0.0,\n",
            "                                        min_impurity_split=None,\n",
            "                                        min_samples_leaf=1,\n",
            "                                        min_samples_split=25,\n",
            "                                        min_weight_fraction_leaf=0.0,\n",
            "                                        presort='deprecated', random_state=None,\n",
            "                                        splitter='best'))],\n",
            "         verbose=False)\n",
            "0.7866666666666666\n",
            "\n",
            "\n"
          ],
          "name": "stdout"
        }
      ]
    },
    {
      "cell_type": "code",
      "metadata": {
        "colab": {
          "base_uri": "https://localhost:8080/"
        },
        "id": "RmDtu6NGwI12",
        "outputId": "9030201a-0962-4967-8dde-104d8e33bcea"
      },
      "source": [
        "#using KNN classifier\n",
        "model = neighbors.KNeighborsClassifier()\n",
        "\n",
        "# Create a pca object\n",
        "pca = decomposition.PCA()\n",
        "\n",
        "# Creating Parameter Space\n",
        "# Create a list of a sequence of integers from 1 to 30 (the number of features in X + 1)\n",
        "n_components = list(range(1,X.shape[1]+1,1))\n",
        "\n",
        "# Creating lists of parameter for KNeighborsRegressor()\n",
        "n_neighbors = [2, 3, 5, 10]\n",
        "algorithm = ['auto',  'ball_tree', 'kd_tree', 'brute']\n",
        "\n",
        "#testing different parameters\n",
        "parameter_grid = {\n",
        "    'pca__n_components': n_components,\n",
        "    'KNN__n_neighbors': n_neighbors,\n",
        "    'KNN__algorithm': algorithm\n",
        "}\n",
        "    \n",
        "for impute in imputation_method:\n",
        "  pipelines = Pipeline(steps=[('scaler', scaler),\n",
        "                              ('imputer', impute),\n",
        "                              ('pca', pca),\n",
        "                              ('KNN', model)])\n",
        " \n",
        "  cross_validation = GridSearchCV(pipelines, parameter_grid)\n",
        "  cross_validation.fit(X_train, y_train)\n",
        "  print(cross_validation.best_estimator_.get_params()['pca__n_components'])\n",
        "  print(); print(cross_validation.best_estimator_.get_params()['KNN'])\n",
        "  print(cross_validation.score(X_test, y_test))\n",
        "  print(\"\\n\")\n",
        "\n",
        "\n",
        "\n",
        " "
      ],
      "execution_count": null,
      "outputs": [
        {
          "output_type": "stream",
          "text": [
            "9\n",
            "\n",
            "KNeighborsClassifier(algorithm='auto', leaf_size=30, metric='minkowski',\n",
            "                     metric_params=None, n_jobs=None, n_neighbors=5, p=2,\n",
            "                     weights='uniform')\n",
            "0.7306666666666667\n",
            "\n",
            "\n",
            "9\n",
            "\n",
            "KNeighborsClassifier(algorithm='auto', leaf_size=30, metric='minkowski',\n",
            "                     metric_params=None, n_jobs=None, n_neighbors=5, p=2,\n",
            "                     weights='uniform')\n",
            "0.7573333333333333\n",
            "\n",
            "\n",
            "9\n",
            "\n",
            "KNeighborsClassifier(algorithm='auto', leaf_size=30, metric='minkowski',\n",
            "                     metric_params=None, n_jobs=None, n_neighbors=5, p=2,\n",
            "                     weights='uniform')\n",
            "0.7413333333333333\n",
            "\n",
            "\n",
            "9\n",
            "\n",
            "KNeighborsClassifier(algorithm='auto', leaf_size=30, metric='minkowski',\n",
            "                     metric_params=None, n_jobs=None, n_neighbors=3, p=2,\n",
            "                     weights='uniform')\n",
            "0.784\n",
            "\n",
            "\n"
          ],
          "name": "stdout"
        }
      ]
    },
    {
      "cell_type": "code",
      "metadata": {
        "id": "ZAVEhSOxV8Zp",
        "colab": {
          "base_uri": "https://localhost:8080/"
        },
        "outputId": "63cb1e4c-07ab-4745-c66b-86aab97707ab"
      },
      "source": [
        "#using random forest classifier\n",
        "\n",
        "model = RandomForestClassifier()\n",
        "\n",
        "\n",
        "# Creating Parameter Space\n",
        "#testing different parameters\n",
        "parameter_grid = {\n",
        "    'classifier__criterion': ['gini', 'entropy'],\n",
        "    'classifier__max_depth': [5, 10, 100],\n",
        "    'classifier__min_samples_split': [2,4,6]\n",
        "}\n",
        "    \n",
        "for impute in imputation_method:\n",
        "  pipelines = Pipeline(steps=[('scaler', scaler),\n",
        "                              ('imputer', impute),\n",
        "                              ('classifier', model)])\n",
        " \n",
        "  cross_validation = GridSearchCV(pipelines, parameter_grid, cv=5)\n",
        "  cross_validation.fit(X_train, y_train)\n",
        "  print(cross_validation.best_estimator_)\n",
        "  print(cross_validation.score(X_test, y_test))\n",
        "  print(\"\\n\")\n",
        "\n"
      ],
      "execution_count": null,
      "outputs": [
        {
          "output_type": "stream",
          "text": [
            "Pipeline(memory=None,\n",
            "         steps=[('scaler', MinMaxScaler(copy=True, feature_range=(0, 1))),\n",
            "                ('imputer',\n",
            "                 SimpleImputer(add_indicator=False, copy=True, fill_value=None,\n",
            "                               missing_values=nan, strategy='median',\n",
            "                               verbose=0)),\n",
            "                ('classifier',\n",
            "                 RandomForestClassifier(bootstrap=True, ccp_alpha=0.0,\n",
            "                                        class_weight=None, criterion='entropy',\n",
            "                                        max_depth=100, max_features='auto',\n",
            "                                        max_leaf_nodes=None, max_samples=None,\n",
            "                                        min_impurity_decrease=0.0,\n",
            "                                        min_impurity_split=None,\n",
            "                                        min_samples_leaf=1, min_samples_split=2,\n",
            "                                        min_weight_fraction_leaf=0.0,\n",
            "                                        n_estimators=100, n_jobs=None,\n",
            "                                        oob_score=False, random_state=None,\n",
            "                                        verbose=0, warm_start=False))],\n",
            "         verbose=False)\n",
            "0.8506666666666667\n",
            "\n",
            "\n",
            "Pipeline(memory=None,\n",
            "         steps=[('scaler', MinMaxScaler(copy=True, feature_range=(0, 1))),\n",
            "                ('imputer',\n",
            "                 SimpleImputer(add_indicator=False, copy=True, fill_value=1,\n",
            "                               missing_values=nan, strategy='constant',\n",
            "                               verbose=0)),\n",
            "                ('classifier',\n",
            "                 RandomForestClassifier(bootstrap=True, ccp_alpha=0.0,\n",
            "                                        class_weight=None, criterion='entropy',\n",
            "                                        max_depth=10, max_features='auto',\n",
            "                                        max_leaf_nodes=None, max_samples=None,\n",
            "                                        min_impurity_decrease=0.0,\n",
            "                                        min_impurity_split=None,\n",
            "                                        min_samples_leaf=1, min_samples_split=6,\n",
            "                                        min_weight_fraction_leaf=0.0,\n",
            "                                        n_estimators=100, n_jobs=None,\n",
            "                                        oob_score=False, random_state=None,\n",
            "                                        verbose=0, warm_start=False))],\n",
            "         verbose=False)\n",
            "0.8506666666666667\n",
            "\n",
            "\n",
            "Pipeline(memory=None,\n",
            "         steps=[('scaler', MinMaxScaler(copy=True, feature_range=(0, 1))),\n",
            "                ('imputer',\n",
            "                 KNNImputer(add_indicator=False, copy=True,\n",
            "                            metric='nan_euclidean', missing_values=nan,\n",
            "                            n_neighbors=5, weights='uniform')),\n",
            "                ('classifier',\n",
            "                 RandomForestClassifier(bootstrap=True, ccp_alpha=0.0,\n",
            "                                        class_weight=None, criterion='gini',\n",
            "                                        max_depth=10, max_features='auto',\n",
            "                                        max_leaf_nodes=None, max_samples=None,\n",
            "                                        min_impurity_decrease=0.0,\n",
            "                                        min_impurity_split=None,\n",
            "                                        min_samples_leaf=1, min_samples_split=2,\n",
            "                                        min_weight_fraction_leaf=0.0,\n",
            "                                        n_estimators=100, n_jobs=None,\n",
            "                                        oob_score=False, random_state=None,\n",
            "                                        verbose=0, warm_start=False))],\n",
            "         verbose=False)\n",
            "0.8346666666666667\n",
            "\n",
            "\n",
            "Pipeline(memory=None,\n",
            "         steps=[('scaler', MinMaxScaler(copy=True, feature_range=(0, 1))),\n",
            "                ('imputer',\n",
            "                 IterativeImputer(add_indicator=False, estimator=None,\n",
            "                                  imputation_order='ascending',\n",
            "                                  initial_strategy='mean', max_iter=10,\n",
            "                                  max_value=None, min_value=None,\n",
            "                                  missing_values=nan, n_nearest_features=None,\n",
            "                                  random_state=0, sample_posterior=False,\n",
            "                                  skip_complete=False, tol=0.00...\n",
            "                 RandomForestClassifier(bootstrap=True, ccp_alpha=0.0,\n",
            "                                        class_weight=None, criterion='entropy',\n",
            "                                        max_depth=100, max_features='auto',\n",
            "                                        max_leaf_nodes=None, max_samples=None,\n",
            "                                        min_impurity_decrease=0.0,\n",
            "                                        min_impurity_split=None,\n",
            "                                        min_samples_leaf=1, min_samples_split=4,\n",
            "                                        min_weight_fraction_leaf=0.0,\n",
            "                                        n_estimators=100, n_jobs=None,\n",
            "                                        oob_score=False, random_state=None,\n",
            "                                        verbose=0, warm_start=False))],\n",
            "         verbose=False)\n",
            "0.8773333333333333\n",
            "\n",
            "\n"
          ],
          "name": "stdout"
        }
      ]
    },
    {
      "cell_type": "markdown",
      "metadata": {
        "id": "vr6APrlt6KhC"
      },
      "source": [
        "#### Estimation of performance"
      ]
    },
    {
      "cell_type": "code",
      "metadata": {
        "id": "YvTJTbUujSJ-"
      },
      "source": [
        "best_model = Pipeline(steps=[('scaler', MinMaxScaler(copy=True, feature_range=(0, 1))),\n",
        "                             ('imputer', IterativeImputer(add_indicator=False, estimator=None,\n",
        "                                  imputation_order='ascending',\n",
        "                                  initial_strategy='mean', max_iter=10,\n",
        "                                  max_value=None, min_value=None,\n",
        "                                   n_nearest_features=None,\n",
        "                                  random_state=0, sample_posterior=False)),\n",
        "                              ('classifier' , RandomForestClassifier(bootstrap=True, ccp_alpha=0.0,\n",
        "                                        class_weight=None, criterion='entropy',\n",
        "                                        max_depth=100, max_features='auto',\n",
        "                                        max_leaf_nodes=None, max_samples=None,\n",
        "                                        min_impurity_decrease=0.0,\n",
        "                                        min_impurity_split=None,\n",
        "                                        min_samples_leaf=1, min_samples_split=2,\n",
        "                                        min_weight_fraction_leaf=0.0,\n",
        "                                        n_estimators=100, n_jobs=None,\n",
        "                                        oob_score=False, random_state=None,\n",
        "                                        verbose=0, warm_start=False))\n",
        "                              ])\n",
        "\n",
        "\n"
      ],
      "execution_count": null,
      "outputs": []
    },
    {
      "cell_type": "code",
      "metadata": {
        "colab": {
          "base_uri": "https://localhost:8080/"
        },
        "id": "uTmMN9axWTVb",
        "outputId": "b0ab2e3d-398d-4064-a105-1e3524028a86"
      },
      "source": [
        "# fit the model with the training data\n",
        "best_model.fit(X_train,y_train)"
      ],
      "execution_count": null,
      "outputs": [
        {
          "output_type": "execute_result",
          "data": {
            "text/plain": [
              "Pipeline(memory=None,\n",
              "         steps=[('scaler', MinMaxScaler(copy=True, feature_range=(0, 1))),\n",
              "                ('imputer',\n",
              "                 IterativeImputer(add_indicator=False, estimator=None,\n",
              "                                  imputation_order='ascending',\n",
              "                                  initial_strategy='mean', max_iter=10,\n",
              "                                  max_value=None, min_value=None,\n",
              "                                  missing_values=nan, n_nearest_features=None,\n",
              "                                  random_state=0, sample_posterior=False,\n",
              "                                  skip_complete=False, tol=0.00...\n",
              "                 RandomForestClassifier(bootstrap=True, ccp_alpha=0.0,\n",
              "                                        class_weight=None, criterion='entropy',\n",
              "                                        max_depth=100, max_features='auto',\n",
              "                                        max_leaf_nodes=None, max_samples=None,\n",
              "                                        min_impurity_decrease=0.0,\n",
              "                                        min_impurity_split=None,\n",
              "                                        min_samples_leaf=1, min_samples_split=2,\n",
              "                                        min_weight_fraction_leaf=0.0,\n",
              "                                        n_estimators=100, n_jobs=None,\n",
              "                                        oob_score=False, random_state=None,\n",
              "                                        verbose=0, warm_start=False))],\n",
              "         verbose=False)"
            ]
          },
          "metadata": {
            "tags": []
          },
          "execution_count": 115
        }
      ]
    },
    {
      "cell_type": "code",
      "metadata": {
        "id": "FBcT51I7YoUK"
      },
      "source": [
        "# predict target values on the training data\n",
        "pred= best_model.predict(X_test)"
      ],
      "execution_count": null,
      "outputs": []
    },
    {
      "cell_type": "code",
      "metadata": {
        "colab": {
          "base_uri": "https://localhost:8080/"
        },
        "id": "Y_HC77qCqNtd",
        "outputId": "0ffb4e36-c0a9-4bca-dd5e-f813abc1caef"
      },
      "source": [
        "print(pred)"
      ],
      "execution_count": null,
      "outputs": [
        {
          "output_type": "stream",
          "text": [
            "[False False  True False False False False  True  True  True  True  True\n",
            "  True  True False  True  True False  True  True False  True  True  True\n",
            " False  True False False  True False  True  True False  True False False\n",
            "  True  True False  True False  True False  True False  True False False\n",
            " False  True  True False False  True  True False False  True False  True\n",
            "  True False  True False False False False False False  True False False\n",
            " False  True  True False False  True  True  True False  True  True False\n",
            "  True  True False False False False False False False False False  True\n",
            "  True False  True  True  True  True  True  True False  True False False\n",
            "  True False  True  True False False  True False  True False False  True\n",
            " False False  True  True False False  True  True  True  True False False\n",
            "  True False  True False False False False  True  True False  True  True\n",
            "  True  True False  True False  True False  True  True False  True False\n",
            "  True  True  True False False False False  True  True False False  True\n",
            " False False False False  True  True False False  True False False False\n",
            "  True  True False False False  True False  True  True  True  True  True\n",
            "  True False  True False False False  True  True False  True False  True\n",
            " False  True  True  True  True  True False False False False False  True\n",
            " False  True  True False  True  True  True False False False  True  True\n",
            " False False  True  True  True  True False False  True  True False  True\n",
            "  True False False  True False False  True  True False False False  True\n",
            "  True  True False False  True  True  True False False False False False\n",
            " False  True False False False  True False False False False False False\n",
            "  True False False  True False  True False  True  True  True False False\n",
            "  True False False False False  True  True False  True  True  True False\n",
            " False False False False  True  True False False False False  True  True\n",
            " False  True False  True  True  True  True False False  True  True  True\n",
            "  True False  True  True False  True False  True  True  True  True  True\n",
            "  True  True  True False False  True False  True False  True  True False\n",
            "  True  True False  True  True  True False False  True False  True  True\n",
            " False False  True False  True  True False False False False False  True\n",
            "  True  True  True]\n"
          ],
          "name": "stdout"
        }
      ]
    },
    {
      "cell_type": "code",
      "metadata": {
        "id": "GlPxxpCb0nX-"
      },
      "source": [
        "#evaluating model accuracy using confusion matrix\n",
        "cm = confusion_matrix(y_test, pred)"
      ],
      "execution_count": null,
      "outputs": []
    },
    {
      "cell_type": "code",
      "metadata": {
        "colab": {
          "base_uri": "https://localhost:8080/"
        },
        "id": "OmHechasm3-k",
        "outputId": "b4481c36-a2ae-49c4-f87e-215b8f1590c8"
      },
      "source": [
        "print(cm)"
      ],
      "execution_count": null,
      "outputs": [
        {
          "output_type": "stream",
          "text": [
            "[[166  29]\n",
            " [ 21 159]]\n"
          ],
          "name": "stdout"
        }
      ]
    },
    {
      "cell_type": "code",
      "metadata": {
        "colab": {
          "base_uri": "https://localhost:8080/"
        },
        "id": "S7PYcehOmHMo",
        "outputId": "9d502bb3-656a-4507-a9a7-74db58690004"
      },
      "source": [
        "matrix = classification_report(y_test, pred)\n",
        "print(matrix)"
      ],
      "execution_count": null,
      "outputs": [
        {
          "output_type": "stream",
          "text": [
            "              precision    recall  f1-score   support\n",
            "\n",
            "       False       0.89      0.85      0.87       195\n",
            "        True       0.85      0.88      0.86       180\n",
            "\n",
            "    accuracy                           0.87       375\n",
            "   macro avg       0.87      0.87      0.87       375\n",
            "weighted avg       0.87      0.87      0.87       375\n",
            "\n"
          ],
          "name": "stdout"
        }
      ]
    },
    {
      "cell_type": "code",
      "metadata": {
        "colab": {
          "base_uri": "https://localhost:8080/"
        },
        "id": "MjxonVcNqaXJ",
        "outputId": "d18f453b-d6cb-41ea-be78-0f20968a5273"
      },
      "source": [
        "#accuracy score on test data \n",
        "accuracy_test = accuracy_score(y_test, pred)\n",
        "print('Accuracy Score on train data: ' + str(accuracy_test))"
      ],
      "execution_count": null,
      "outputs": [
        {
          "output_type": "stream",
          "text": [
            "Accuracy Score on train data: 0.8666666666666667\n"
          ],
          "name": "stdout"
        }
      ]
    },
    {
      "cell_type": "markdown",
      "metadata": {
        "id": "82b0E8kpzPL0"
      },
      "source": [
        "### Predictions on a hold-out test set"
      ]
    },
    {
      "cell_type": "code",
      "metadata": {
        "id": "iqWZ8qW-zR-Q"
      },
      "source": [
        "#load test data\n",
        "data_path = '/content/drive/MyDrive/Design and application of a machine learning system for a practical problem/machine learning assessment/clients data/CE802_P2_Test.csv'\n",
        "test_data = pd.read_csv(data_path)\n"
      ],
      "execution_count": null,
      "outputs": []
    },
    {
      "cell_type": "code",
      "metadata": {
        "id": "qDzP9aE7CkTc",
        "colab": {
          "base_uri": "https://localhost:8080/",
          "height": 204
        },
        "outputId": "465e21ae-cd56-4824-b1b4-1d41674f1c88"
      },
      "source": [
        "test_data.head()"
      ],
      "execution_count": null,
      "outputs": [
        {
          "output_type": "execute_result",
          "data": {
            "text/html": [
              "<div>\n",
              "<style scoped>\n",
              "    .dataframe tbody tr th:only-of-type {\n",
              "        vertical-align: middle;\n",
              "    }\n",
              "\n",
              "    .dataframe tbody tr th {\n",
              "        vertical-align: top;\n",
              "    }\n",
              "\n",
              "    .dataframe thead th {\n",
              "        text-align: right;\n",
              "    }\n",
              "</style>\n",
              "<table border=\"1\" class=\"dataframe\">\n",
              "  <thead>\n",
              "    <tr style=\"text-align: right;\">\n",
              "      <th></th>\n",
              "      <th>F1</th>\n",
              "      <th>F2</th>\n",
              "      <th>F3</th>\n",
              "      <th>F4</th>\n",
              "      <th>F5</th>\n",
              "      <th>F6</th>\n",
              "      <th>F7</th>\n",
              "      <th>F8</th>\n",
              "      <th>F9</th>\n",
              "      <th>F10</th>\n",
              "      <th>F11</th>\n",
              "      <th>F12</th>\n",
              "      <th>F13</th>\n",
              "      <th>F14</th>\n",
              "      <th>F15</th>\n",
              "      <th>Class</th>\n",
              "    </tr>\n",
              "  </thead>\n",
              "  <tbody>\n",
              "    <tr>\n",
              "      <th>0</th>\n",
              "      <td>-8.67</td>\n",
              "      <td>-25.56</td>\n",
              "      <td>21</td>\n",
              "      <td>13.14</td>\n",
              "      <td>-7.45</td>\n",
              "      <td>5.55</td>\n",
              "      <td>10.29</td>\n",
              "      <td>-30.98</td>\n",
              "      <td>-476.72</td>\n",
              "      <td>2</td>\n",
              "      <td>-1.17</td>\n",
              "      <td>61.66</td>\n",
              "      <td>0.23</td>\n",
              "      <td>3.76</td>\n",
              "      <td>7.60</td>\n",
              "      <td>NaN</td>\n",
              "    </tr>\n",
              "    <tr>\n",
              "      <th>1</th>\n",
              "      <td>-8.31</td>\n",
              "      <td>-29.19</td>\n",
              "      <td>10</td>\n",
              "      <td>12.16</td>\n",
              "      <td>-7.66</td>\n",
              "      <td>5.22</td>\n",
              "      <td>10.22</td>\n",
              "      <td>-30.98</td>\n",
              "      <td>-422.72</td>\n",
              "      <td>2</td>\n",
              "      <td>-0.96</td>\n",
              "      <td>79.66</td>\n",
              "      <td>0.02</td>\n",
              "      <td>1.22</td>\n",
              "      <td>6.72</td>\n",
              "      <td>NaN</td>\n",
              "    </tr>\n",
              "    <tr>\n",
              "      <th>2</th>\n",
              "      <td>-0.84</td>\n",
              "      <td>-25.29</td>\n",
              "      <td>110</td>\n",
              "      <td>12.34</td>\n",
              "      <td>-3.72</td>\n",
              "      <td>20.70</td>\n",
              "      <td>17.32</td>\n",
              "      <td>-76.98</td>\n",
              "      <td>-778.72</td>\n",
              "      <td>20</td>\n",
              "      <td>11.10</td>\n",
              "      <td>-20.34</td>\n",
              "      <td>5.75</td>\n",
              "      <td>-1.97</td>\n",
              "      <td>NaN</td>\n",
              "      <td>NaN</td>\n",
              "    </tr>\n",
              "    <tr>\n",
              "      <th>3</th>\n",
              "      <td>0.90</td>\n",
              "      <td>-14.94</td>\n",
              "      <td>120</td>\n",
              "      <td>9.44</td>\n",
              "      <td>-3.44</td>\n",
              "      <td>28.05</td>\n",
              "      <td>15.52</td>\n",
              "      <td>-56.98</td>\n",
              "      <td>-858.72</td>\n",
              "      <td>20</td>\n",
              "      <td>6.33</td>\n",
              "      <td>229.66</td>\n",
              "      <td>8.05</td>\n",
              "      <td>-1.77</td>\n",
              "      <td>NaN</td>\n",
              "      <td>NaN</td>\n",
              "    </tr>\n",
              "    <tr>\n",
              "      <th>4</th>\n",
              "      <td>-0.33</td>\n",
              "      <td>-9.60</td>\n",
              "      <td>345</td>\n",
              "      <td>14.26</td>\n",
              "      <td>-3.32</td>\n",
              "      <td>34.80</td>\n",
              "      <td>15.07</td>\n",
              "      <td>-36.98</td>\n",
              "      <td>-458.72</td>\n",
              "      <td>20</td>\n",
              "      <td>12.18</td>\n",
              "      <td>129.66</td>\n",
              "      <td>9.80</td>\n",
              "      <td>-2.17</td>\n",
              "      <td>6.60</td>\n",
              "      <td>NaN</td>\n",
              "    </tr>\n",
              "  </tbody>\n",
              "</table>\n",
              "</div>"
            ],
            "text/plain": [
              "     F1     F2   F3     F4    F5     F6  ...    F11     F12   F13   F14   F15  Class\n",
              "0 -8.67 -25.56   21  13.14 -7.45   5.55  ...  -1.17   61.66  0.23  3.76  7.60    NaN\n",
              "1 -8.31 -29.19   10  12.16 -7.66   5.22  ...  -0.96   79.66  0.02  1.22  6.72    NaN\n",
              "2 -0.84 -25.29  110  12.34 -3.72  20.70  ...  11.10  -20.34  5.75 -1.97   NaN    NaN\n",
              "3  0.90 -14.94  120   9.44 -3.44  28.05  ...   6.33  229.66  8.05 -1.77   NaN    NaN\n",
              "4 -0.33  -9.60  345  14.26 -3.32  34.80  ...  12.18  129.66  9.80 -2.17  6.60    NaN\n",
              "\n",
              "[5 rows x 16 columns]"
            ]
          },
          "metadata": {
            "tags": []
          },
          "execution_count": 123
        }
      ]
    },
    {
      "cell_type": "code",
      "metadata": {
        "id": "bmJjzZl_CoKF"
      },
      "source": [
        "new_test_data = test_data.drop('Class', axis = 1)\n"
      ],
      "execution_count": null,
      "outputs": []
    },
    {
      "cell_type": "code",
      "metadata": {
        "id": "U5TKR5n6GVS-"
      },
      "source": [
        "# predict target variables on the test data\n",
        "predictions = best_model.predict(new_test_data)"
      ],
      "execution_count": null,
      "outputs": []
    },
    {
      "cell_type": "code",
      "metadata": {
        "id": "JnvYvBFWt66B"
      },
      "source": [
        "pred_df = pd.DataFrame(predictions)"
      ],
      "execution_count": null,
      "outputs": []
    },
    {
      "cell_type": "code",
      "metadata": {
        "colab": {
          "base_uri": "https://localhost:8080/"
        },
        "id": "1s0pGQmBtZFY",
        "outputId": "88ee5ef6-9ac5-4161-a69a-b189804d86b7"
      },
      "source": [
        "pred_df.value_counts()"
      ],
      "execution_count": null,
      "outputs": [
        {
          "output_type": "execute_result",
          "data": {
            "text/plain": [
              "False    817\n",
              "True     683\n",
              "dtype: int64"
            ]
          },
          "metadata": {
            "tags": []
          },
          "execution_count": 127
        }
      ]
    },
    {
      "cell_type": "code",
      "metadata": {
        "id": "CHOOV5QLF2hi",
        "colab": {
          "base_uri": "https://localhost:8080/"
        },
        "outputId": "b3669672-10ac-4504-ef90-fd9ac9a930ab"
      },
      "source": [
        "print(test_data)"
      ],
      "execution_count": null,
      "outputs": [
        {
          "output_type": "stream",
          "text": [
            "         F1     F2   F3     F4    F5  ...     F12   F13   F14   F15  Class\n",
            "0     -8.67 -25.56   21  13.14 -7.45  ...   61.66  0.23  3.76  7.60    NaN\n",
            "1     -8.31 -29.19   10  12.16 -7.66  ...   79.66  0.02  1.22  6.72    NaN\n",
            "2     -0.84 -25.29  110  12.34 -3.72  ...  -20.34  5.75 -1.97   NaN    NaN\n",
            "3      0.90 -14.94  120   9.44 -3.44  ...  229.66  8.05 -1.77   NaN    NaN\n",
            "4     -0.33  -9.60  345  14.26 -3.32  ...  129.66  9.80 -2.17  6.60    NaN\n",
            "...     ...    ...  ...    ...   ...  ...     ...   ...   ...   ...    ...\n",
            "1495   2.07 -12.18   55   9.10 -3.70  ...   89.66  7.45 -1.42  5.03    NaN\n",
            "1496  -8.73 -28.92   20  14.86 -7.81  ...   85.66  0.02  1.75  4.87    NaN\n",
            "1497 -20.43 -29.97   13  13.58 -7.32  ...  115.66  0.47  1.17   NaN    NaN\n",
            "1498  -7.50 -26.49    9  14.08 -7.28  ...   95.66  0.29  1.79   NaN    NaN\n",
            "1499   5.61 -13.26  265  15.62 -2.43  ...  219.66  5.20 -3.10   NaN    NaN\n",
            "\n",
            "[1500 rows x 16 columns]\n"
          ],
          "name": "stdout"
        }
      ]
    },
    {
      "cell_type": "code",
      "metadata": {
        "id": "Dp4g-FnRbi0k"
      },
      "source": [
        "# Save the predictions to a test_data \n",
        "test_data['Class'] = predictions\n",
        "\n"
      ],
      "execution_count": null,
      "outputs": []
    },
    {
      "cell_type": "code",
      "metadata": {
        "colab": {
          "base_uri": "https://localhost:8080/",
          "height": 204
        },
        "id": "8XbkLRbsf_pn",
        "outputId": "03efb9a1-e0b7-4562-ad1f-ed69ddd4a71d"
      },
      "source": [
        "test_data.head()"
      ],
      "execution_count": null,
      "outputs": [
        {
          "output_type": "execute_result",
          "data": {
            "text/html": [
              "<div>\n",
              "<style scoped>\n",
              "    .dataframe tbody tr th:only-of-type {\n",
              "        vertical-align: middle;\n",
              "    }\n",
              "\n",
              "    .dataframe tbody tr th {\n",
              "        vertical-align: top;\n",
              "    }\n",
              "\n",
              "    .dataframe thead th {\n",
              "        text-align: right;\n",
              "    }\n",
              "</style>\n",
              "<table border=\"1\" class=\"dataframe\">\n",
              "  <thead>\n",
              "    <tr style=\"text-align: right;\">\n",
              "      <th></th>\n",
              "      <th>F1</th>\n",
              "      <th>F2</th>\n",
              "      <th>F3</th>\n",
              "      <th>F4</th>\n",
              "      <th>F5</th>\n",
              "      <th>F6</th>\n",
              "      <th>F7</th>\n",
              "      <th>F8</th>\n",
              "      <th>F9</th>\n",
              "      <th>F10</th>\n",
              "      <th>F11</th>\n",
              "      <th>F12</th>\n",
              "      <th>F13</th>\n",
              "      <th>F14</th>\n",
              "      <th>F15</th>\n",
              "      <th>Class</th>\n",
              "    </tr>\n",
              "  </thead>\n",
              "  <tbody>\n",
              "    <tr>\n",
              "      <th>0</th>\n",
              "      <td>-8.67</td>\n",
              "      <td>-25.56</td>\n",
              "      <td>21</td>\n",
              "      <td>13.14</td>\n",
              "      <td>-7.45</td>\n",
              "      <td>5.55</td>\n",
              "      <td>10.29</td>\n",
              "      <td>-30.98</td>\n",
              "      <td>-476.72</td>\n",
              "      <td>2</td>\n",
              "      <td>-1.17</td>\n",
              "      <td>61.66</td>\n",
              "      <td>0.23</td>\n",
              "      <td>3.76</td>\n",
              "      <td>7.60</td>\n",
              "      <td>True</td>\n",
              "    </tr>\n",
              "    <tr>\n",
              "      <th>1</th>\n",
              "      <td>-8.31</td>\n",
              "      <td>-29.19</td>\n",
              "      <td>10</td>\n",
              "      <td>12.16</td>\n",
              "      <td>-7.66</td>\n",
              "      <td>5.22</td>\n",
              "      <td>10.22</td>\n",
              "      <td>-30.98</td>\n",
              "      <td>-422.72</td>\n",
              "      <td>2</td>\n",
              "      <td>-0.96</td>\n",
              "      <td>79.66</td>\n",
              "      <td>0.02</td>\n",
              "      <td>1.22</td>\n",
              "      <td>6.72</td>\n",
              "      <td>True</td>\n",
              "    </tr>\n",
              "    <tr>\n",
              "      <th>2</th>\n",
              "      <td>-0.84</td>\n",
              "      <td>-25.29</td>\n",
              "      <td>110</td>\n",
              "      <td>12.34</td>\n",
              "      <td>-3.72</td>\n",
              "      <td>20.70</td>\n",
              "      <td>17.32</td>\n",
              "      <td>-76.98</td>\n",
              "      <td>-778.72</td>\n",
              "      <td>20</td>\n",
              "      <td>11.10</td>\n",
              "      <td>-20.34</td>\n",
              "      <td>5.75</td>\n",
              "      <td>-1.97</td>\n",
              "      <td>NaN</td>\n",
              "      <td>False</td>\n",
              "    </tr>\n",
              "    <tr>\n",
              "      <th>3</th>\n",
              "      <td>0.90</td>\n",
              "      <td>-14.94</td>\n",
              "      <td>120</td>\n",
              "      <td>9.44</td>\n",
              "      <td>-3.44</td>\n",
              "      <td>28.05</td>\n",
              "      <td>15.52</td>\n",
              "      <td>-56.98</td>\n",
              "      <td>-858.72</td>\n",
              "      <td>20</td>\n",
              "      <td>6.33</td>\n",
              "      <td>229.66</td>\n",
              "      <td>8.05</td>\n",
              "      <td>-1.77</td>\n",
              "      <td>NaN</td>\n",
              "      <td>False</td>\n",
              "    </tr>\n",
              "    <tr>\n",
              "      <th>4</th>\n",
              "      <td>-0.33</td>\n",
              "      <td>-9.60</td>\n",
              "      <td>345</td>\n",
              "      <td>14.26</td>\n",
              "      <td>-3.32</td>\n",
              "      <td>34.80</td>\n",
              "      <td>15.07</td>\n",
              "      <td>-36.98</td>\n",
              "      <td>-458.72</td>\n",
              "      <td>20</td>\n",
              "      <td>12.18</td>\n",
              "      <td>129.66</td>\n",
              "      <td>9.80</td>\n",
              "      <td>-2.17</td>\n",
              "      <td>6.60</td>\n",
              "      <td>True</td>\n",
              "    </tr>\n",
              "  </tbody>\n",
              "</table>\n",
              "</div>"
            ],
            "text/plain": [
              "     F1     F2   F3     F4    F5     F6  ...    F11     F12   F13   F14   F15  Class\n",
              "0 -8.67 -25.56   21  13.14 -7.45   5.55  ...  -1.17   61.66  0.23  3.76  7.60   True\n",
              "1 -8.31 -29.19   10  12.16 -7.66   5.22  ...  -0.96   79.66  0.02  1.22  6.72   True\n",
              "2 -0.84 -25.29  110  12.34 -3.72  20.70  ...  11.10  -20.34  5.75 -1.97   NaN  False\n",
              "3  0.90 -14.94  120   9.44 -3.44  28.05  ...   6.33  229.66  8.05 -1.77   NaN  False\n",
              "4 -0.33  -9.60  345  14.26 -3.32  34.80  ...  12.18  129.66  9.80 -2.17  6.60   True\n",
              "\n",
              "[5 rows x 16 columns]"
            ]
          },
          "metadata": {
            "tags": []
          },
          "execution_count": 130
        }
      ]
    },
    {
      "cell_type": "code",
      "metadata": {
        "id": "iMJaG0xog-65"
      },
      "source": [
        "test_data.to_csv(r'/content/drive/MyDrive/Design and application of a machine learning system for a practical problem/final submission/CE802_P2_Test.csv', index= False)"
      ],
      "execution_count": null,
      "outputs": []
    }
  ]
}